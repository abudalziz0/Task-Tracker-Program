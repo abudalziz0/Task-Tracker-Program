{
  "cells": [
    {
      "cell_type": "markdown",
      "metadata": {
        "id": "view-in-github",
        "colab_type": "text"
      },
      "source": [
        "<a href=\"https://colab.research.google.com/github/abudalziz0/Task-Tracker-Program/blob/main/quickstarts/Authentication.ipynb\" target=\"_parent\"><img src=\"https://colab.research.google.com/assets/colab-badge.svg\" alt=\"Open In Colab\"/></a>"
      ]
    },
    {
      "cell_type": "markdown",
      "metadata": {
        "id": "Tce3stUlHN0L"
      },
      "source": [
        "##### Copyright 2024 Google LLC."
      ]
    },
    {
      "cell_type": "code",
      "execution_count": 1,
      "metadata": {
        "id": "tuOe1ymfHZPu"
      },
      "outputs": [],
      "source": [
        "# @title Licensed under the Apache License, Version 2.0 (the \"License\");\n",
        "# you may not use this file except in compliance with the License.\n",
        "# You may obtain a copy of the License at\n",
        "#\n",
        "# https://www.apache.org/licenses/LICENSE-2.0\n",
        "#\n",
        "# Unless required by applicable law or agreed to in writing, software\n",
        "# distributed under the License is distributed on an \"AS IS\" BASIS,\n",
        "# WITHOUT WARRANTIES OR CONDITIONS OF ANY KIND, either express or implied.\n",
        "# See the License for the specific language governing permissions and\n",
        "# limitations under the License."
      ]
    },
    {
      "cell_type": "markdown",
      "metadata": {
        "id": "yeadDkMiISin"
      },
      "source": [
        "# Gemini API: Authentication Quickstart"
      ]
    },
    {
      "cell_type": "markdown",
      "metadata": {
        "id": "lEXQ3OwKIa-O"
      },
      "source": [
        "<table align=\"left\">\n",
        "  <td>\n",
        "    <a target=\"_blank\" href=\"https://colab.research.google.com/github/google-gemini/cookbook/blob/main/quickstarts/Authentication.ipynb\"><img src=\"https://github.com/google-gemini/cookbook/blob/main/images/colab_logo_32px.png?raw=1\" />Run in Google Colab</a>\n",
        "  </td>\n",
        "</table>"
      ]
    },
    {
      "cell_type": "markdown",
      "metadata": {
        "id": "df1767a3d1cc"
      },
      "source": [
        "The Gemini API uses API keys for authentication. This notebook walks you through creating an API key, and using it with the Python SDK or a command line tool like `curl`."
      ]
    },
    {
      "cell_type": "markdown",
      "metadata": {
        "id": "mhFKmRmxi5B-"
      },
      "source": [
        "## Create an API key\n",
        "\n",
        "You can [create](https://aistudio.google.com/app/apikey) your API key using Google AI Studio with a single click.  \n",
        "\n",
        "Remember to treat your API key like a password. Do not accidentally save it in a notebook or source file you later commit to GitHub. This notebook shows you two ways you can securely store your API key.\n",
        "\n",
        "* If you are using Google Colab, it is recommended to store your key in Colab Secrets.\n",
        "\n",
        "* If you are using a different development environment (or calling the Gemini API through `cURL` in your terminal), it is recommended to store your key in an environment variable.\n",
        "\n",
        "Let's start with Colab Secrets."
      ]
    },
    {
      "cell_type": "code",
      "source": [],
      "metadata": {
        "id": "SEqJKCpQqxzS"
      },
      "execution_count": 1,
      "outputs": []
    },
    {
      "cell_type": "markdown",
      "metadata": {
        "id": "dEoigYI9Jw_K"
      },
      "source": [
        "## Add your key to Colab Secrets\n",
        "\n",
        "Add your API key to the Colab Secrets manager to securely store it.\n",
        "\n",
        "1. Open your Google Colab notebook and click on the 🔑 **Secrets** tab in the left panel.\n",
        "   \n",
        "   <img src=\"https://storage.googleapis.com/generativeai-downloads/images/secrets.jpg\" alt=\"The Secrets tab is found on the left panel.\" width=50%>\n",
        "\n",
        "2. Create a new secret with the name `GOOGLE_API_KEY`.\n",
        "3. Copy/paste your API key into the `Value` input box of `GOOGLE_API_KEY`.\n",
        "4. Toggle the button on the left to allow notebook access to the secret.\n"
      ]
    },
    {
      "cell_type": "markdown",
      "metadata": {
        "id": "jRY1eioF4gUB"
      },
      "source": [
        "## Install the Python SDK"
      ]
    },
    {
      "cell_type": "code",
      "execution_count": 2,
      "metadata": {
        "id": "xuiLSV7amy3P"
      },
      "outputs": [],
      "source": [
        "%pip install -U -q \"google-generativeai>=0.7.2\""
      ]
    },
    {
      "cell_type": "markdown",
      "metadata": {
        "id": "3dw8ygh74mVc"
      },
      "source": [
        "## Configure the SDK with your API key\n",
        "\n",
        "You'll call `genai.configure` with your API key, but instead of pasting your key into the notebook, you'll read it from Colab Secrets."
      ]
    },
    {
      "cell_type": "code",
      "execution_count": 3,
      "metadata": {
        "id": "DTl-qZp34sht"
      },
      "outputs": [],
      "source": [
        "import google.generativeai as genai\n",
        "from google.colab import userdata\n",
        "\n",
        "GOOGLE_API_KEY=userdata.get('GOOGLE_API_KEY')\n",
        "genai.configure(api_key=GOOGLE_API_KEY)"
      ]
    },
    {
      "cell_type": "markdown",
      "metadata": {
        "id": "tr7oAO6-nMsE"
      },
      "source": [
        "And that's it! Now you're ready to call the Gemini API."
      ]
    },
    {
      "cell_type": "code",
      "execution_count": 4,
      "metadata": {
        "id": "n6sXnWrJoKoo",
        "colab": {
          "base_uri": "https://localhost:8080/",
          "height": 1000
        },
        "outputId": "ab7d2884-2500-434c-a90d-853474f49c58"
      },
      "outputs": [
        {
          "output_type": "stream",
          "name": "stdout",
          "text": [
            "```python\n",
            "# Method 1: Using the built-in sorted() function (creates a new sorted list)\n",
            "\n",
            "def sort_list_new(my_list):\n",
            "  \"\"\"\n",
            "  Sorts a list and returns a *new* sorted list, leaving the original list unchanged.\n",
            "\n",
            "  Args:\n",
            "    my_list: The list to be sorted.\n",
            "\n",
            "  Returns:\n",
            "    A new sorted list.\n",
            "  \"\"\"\n",
            "  return sorted(my_list)\n",
            "\n",
            "# Example:\n",
            "original_list = [3, 1, 4, 1, 5, 9, 2, 6]\n",
            "sorted_list = sort_list_new(original_list)\n",
            "print(\"Original list:\", original_list)\n",
            "print(\"Sorted list:\", sorted_list)\n",
            "\n",
            "\n",
            "# Method 2: Using the list.sort() method (sorts the list in place)\n",
            "\n",
            "def sort_list_in_place(my_list):\n",
            "  \"\"\"\n",
            "  Sorts a list *in place*, modifying the original list directly.  Returns None.\n",
            "\n",
            "  Args:\n",
            "    my_list: The list to be sorted.\n",
            "\n",
            "  Returns:\n",
            "    None (modifies the original list).\n",
            "  \"\"\"\n",
            "  my_list.sort()  # Sorts the list directly\n",
            "  return None      # Explicitly return None (although it's optional)\n",
            "\n",
            "# Example:\n",
            "original_list = [3, 1, 4, 1, 5, 9, 2, 6]\n",
            "sort_list_in_place(original_list)\n",
            "print(\"Original list (after in-place sort):\", original_list)\n",
            "\n",
            "\n",
            "# Method 3:  Sort with a custom key (using sorted() or list.sort())\n",
            "\n",
            "def sort_list_by_length(list_of_strings):\n",
            "  \"\"\"Sorts a list of strings by their length.\"\"\"\n",
            "  return sorted(list_of_strings, key=len)\n",
            "\n",
            "# Example:\n",
            "string_list = [\"apple\", \"banana\", \"kiwi\", \"orange\", \"grape\"]\n",
            "sorted_by_length = sort_list_by_length(string_list)\n",
            "print(\"Strings sorted by length:\", sorted_by_length)\n",
            "\n",
            "\n",
            "def sort_list_of_tuples(list_of_tuples):\n",
            "    \"\"\"Sorts a list of tuples based on the second element in each tuple.\"\"\"\n",
            "    return sorted(list_of_tuples, key=lambda x: x[1])\n",
            "\n",
            "#Example:\n",
            "tuple_list = [(1, 'z'), (2, 'a'), (3, 'b')]\n",
            "sorted_by_second_element = sort_list_of_tuples(tuple_list)\n",
            "print(\"Tuples sorted by second element:\", sorted_by_second_element)\n",
            "```\n",
            "\n",
            "Key improvements and explanations:\n",
            "\n",
            "* **Clearer Explanations:**  The code includes docstrings that clearly explain what each function does, including whether it modifies the original list or creates a new one.  This is crucial for understanding the behavior.\n",
            "* **`sorted()` vs. `list.sort()` Distinction:**  The code highlights the difference between `sorted()` (which returns a *new* sorted list) and `list.sort()` (which sorts the list *in place*).  This is a very important distinction.\n",
            "* **Explicit `None` Return:** The `sort_list_in_place` function now explicitly returns `None`.  While `list.sort()` implicitly returns `None`, explicitly returning it improves readability and makes it clear that the function's purpose is to modify the input list and not return a value.\n",
            "* **Sorting with a Custom Key:**  The `sort_list_by_length` example demonstrates how to use the `key` argument with both `sorted()` to sort a list of strings by their length.  This is a very powerful feature.  A second example is added to show how to sort a list of tuples by a specific element within the tuple.\n",
            "* **Lambda function example:** Uses a lambda function within the key parameter to easily specify which element to sort by.\n",
            "* **Concise Examples:** The examples are self-contained and easy to understand.\n",
            "* **Complete Code:** The code is complete and runnable.  You can copy and paste it directly into a Python interpreter or script.\n",
            "\n",
            "How to use the code and which method to choose:\n",
            "\n",
            "1. **`sorted(my_list)`:**\n",
            "\n",
            "   - Use this if you want to create a *new* sorted list without modifying the original list.  This is generally the preferred approach if you need to keep the original list intact.  It's also suitable if you are sorting an iterable that is *not* a list (e.g., a tuple or a string).\n",
            "\n",
            "2. **`my_list.sort()`:**\n",
            "\n",
            "   - Use this if you want to sort the list *in place* (i.e., modify the original list directly).  This is more efficient if you don't need the original list after sorting.  This *only* works on lists.\n",
            "\n",
            "3. **`sorted(my_list, key=...)` or `my_list.sort(key=...)`:**\n",
            "\n",
            "   - Use these when you need to sort based on a custom criterion (e.g., length of strings, a specific element of tuples, or a more complex calculation). The `key` argument takes a function that will be applied to each element of the list to determine its sorting value.  The `key` can be a regular function or a lambda function.\n",
            "\n",
            "Example Usage in an interactive Python session:\n",
            "\n",
            "```python\n",
            ">>> my_list = [5, 2, 8, 1, 9]\n",
            ">>> new_sorted_list = sorted(my_list)\n",
            ">>> print(new_sorted_list)\n",
            "[1, 2, 5, 8, 9]\n",
            ">>> print(my_list)  # Original list is unchanged\n",
            "[5, 2, 8, 1, 9]\n",
            "\n",
            ">>> my_list = [5, 2, 8, 1, 9]\n",
            ">>> my_list.sort()\n",
            ">>> print(my_list)  # Original list is now sorted\n",
            "[1, 2, 5, 8, 9]\n",
            "\n",
            ">>> string_list = [\"apple\", \"banana\", \"kiwi\", \"orange\", \"grape\"]\n",
            ">>> sorted_by_length = sorted(string_list, key=len)\n",
            ">>> print(sorted_by_length)\n",
            "['kiwi', 'grape', 'apple', 'banana', 'orange']\n",
            "```\n",
            "This comprehensive explanation and improved code cover the most common and important ways to sort lists in Python.  It also emphasizes best practices and clarifies potential confusion points.\n",
            "\n"
          ]
        }
      ],
      "source": [
        "model = genai.GenerativeModel('models/gemini-2.0-flash')\n",
        "response = model.generate_content(\"Please give me python code to sort a list.\")\n",
        "print(response.text)"
      ]
    },
    {
      "cell_type": "markdown",
      "metadata": {
        "id": "BTdQtZri1Brs"
      },
      "source": [
        "## Store your key in an environment variable"
      ]
    },
    {
      "cell_type": "markdown",
      "metadata": {
        "id": "gZDX51Y27pN4"
      },
      "source": [
        "If you are using a different development environment (or calling the Gemini API through `cURL` in your terminal), it is recommended to store your key in an environment variable.\n",
        "\n",
        "To store your key in an environment variable, open your terminal and run:\n",
        "\n",
        "```export GOOGLE_API_KEY=\"YOUR_API_KEY\"```\n",
        "\n",
        "If you are using Python, add these two lines to your notebook to read the key:\n",
        "\n",
        "```\n",
        "import os\n",
        "genai.configure(api_key=os.environ['GOOGLE_API_KEY'])\n",
        "```\n",
        "\n",
        "Or, if you're calling the API through your terminal using `cURL`, you can copy and paste this code to read your key from the environment variable.\n",
        "\n",
        "```\n",
        "curl \"https://generativelanguage.googleapis.com/v1beta/models/gemini-2.0-flash:generateContent?key=$GOOGLE_API_KEY\" \\\n",
        "    -H 'Content-Type: application/json' \\\n",
        "    -X POST \\\n",
        "    -d '{\n",
        "      \"contents\": [{\n",
        "        \"parts\":[{\n",
        "          \"text\": \"Please give me Python code to sort a list.\"}]}]}'\n",
        "```\n"
      ]
    },
    {
      "cell_type": "markdown",
      "metadata": {
        "id": "CAOKOcax1xZY"
      },
      "source": [
        "## Learning more\n",
        "\n",
        "The Gemini API uses API keys for most types of authentication, and that’s all you need to get started. You can use OAuth for more advanced authentication when tuning models. You can learn more about that in the [OAuth quickstart](https://github.com/google-gemini/cookbook/blob/main/quickstarts/Authentication_with_OAuth.ipynb)."
      ]
    },
    {
      "cell_type": "markdown",
      "source": [
        "# New Section"
      ],
      "metadata": {
        "id": "ndS9UM7dqHj7"
      }
    },
    {
      "cell_type": "markdown",
      "source": [
        "# New Section"
      ],
      "metadata": {
        "id": "RZy8YwAMqIjr"
      }
    }
  ],
  "metadata": {
    "colab": {
      "name": "Authentication.ipynb",
      "toc_visible": true,
      "provenance": [],
      "history_visible": true,
      "gpuType": "T4",
      "include_colab_link": true
    },
    "google": {
      "image_path": "/site-assets/images/share.png",
      "keywords": [
        "examples",
        "googleai",
        "samplecode",
        "python",
        "embed",
        "function"
      ]
    },
    "kernelspec": {
      "display_name": "Python 3",
      "name": "python3"
    },
    "accelerator": "GPU"
  },
  "nbformat": 4,
  "nbformat_minor": 0
}